{
 "cells": [
  {
   "cell_type": "code",
   "execution_count": 3,
   "id": "b83cc7bd-fba4-4fa1-bd5f-f3247a8e33ba",
   "metadata": {},
   "outputs": [],
   "source": [
    "import pandas as pd\n",
    "import numpy as np\n",
    "import os"
   ]
  },
  {
   "cell_type": "markdown",
   "id": "39d3989c-c994-4eee-9637-56939690cb40",
   "metadata": {},
   "source": [
    "## CSV"
   ]
  },
  {
   "cell_type": "code",
   "execution_count": 71,
   "id": "a1eaecc9-bf30-4cbe-94c1-64daf987f537",
   "metadata": {},
   "outputs": [],
   "source": [
    "df_csv = pd.read_csv(\"Assignment1/Input/Iris.csv\")"
   ]
  },
  {
   "cell_type": "code",
   "execution_count": 19,
   "id": "7908a3ed-83c7-45bf-8970-9501c96621b0",
   "metadata": {},
   "outputs": [
    {
     "data": {
      "text/html": [
       "<div>\n",
       "<style scoped>\n",
       "    .dataframe tbody tr th:only-of-type {\n",
       "        vertical-align: middle;\n",
       "    }\n",
       "\n",
       "    .dataframe tbody tr th {\n",
       "        vertical-align: top;\n",
       "    }\n",
       "\n",
       "    .dataframe thead th {\n",
       "        text-align: right;\n",
       "    }\n",
       "</style>\n",
       "<table border=\"1\" class=\"dataframe\">\n",
       "  <thead>\n",
       "    <tr style=\"text-align: right;\">\n",
       "      <th></th>\n",
       "      <th>Id</th>\n",
       "      <th>SepalLengthCm</th>\n",
       "      <th>SepalWidthCm</th>\n",
       "      <th>PetalLengthCm</th>\n",
       "      <th>PetalWidthCm</th>\n",
       "      <th>Species</th>\n",
       "    </tr>\n",
       "  </thead>\n",
       "  <tbody>\n",
       "    <tr>\n",
       "      <th>0</th>\n",
       "      <td>1</td>\n",
       "      <td>5.1</td>\n",
       "      <td>3.5</td>\n",
       "      <td>1.4</td>\n",
       "      <td>0.2</td>\n",
       "      <td>Iris-setosa</td>\n",
       "    </tr>\n",
       "    <tr>\n",
       "      <th>1</th>\n",
       "      <td>2</td>\n",
       "      <td>4.9</td>\n",
       "      <td>3.0</td>\n",
       "      <td>1.4</td>\n",
       "      <td>0.2</td>\n",
       "      <td>Iris-setosa</td>\n",
       "    </tr>\n",
       "    <tr>\n",
       "      <th>2</th>\n",
       "      <td>3</td>\n",
       "      <td>4.7</td>\n",
       "      <td>3.2</td>\n",
       "      <td>1.3</td>\n",
       "      <td>0.2</td>\n",
       "      <td>Iris-setosa</td>\n",
       "    </tr>\n",
       "    <tr>\n",
       "      <th>3</th>\n",
       "      <td>4</td>\n",
       "      <td>4.6</td>\n",
       "      <td>3.1</td>\n",
       "      <td>1.5</td>\n",
       "      <td>0.2</td>\n",
       "      <td>Iris-setosa</td>\n",
       "    </tr>\n",
       "    <tr>\n",
       "      <th>4</th>\n",
       "      <td>5</td>\n",
       "      <td>5.0</td>\n",
       "      <td>3.6</td>\n",
       "      <td>1.4</td>\n",
       "      <td>0.2</td>\n",
       "      <td>Iris-setosa</td>\n",
       "    </tr>\n",
       "    <tr>\n",
       "      <th>...</th>\n",
       "      <td>...</td>\n",
       "      <td>...</td>\n",
       "      <td>...</td>\n",
       "      <td>...</td>\n",
       "      <td>...</td>\n",
       "      <td>...</td>\n",
       "    </tr>\n",
       "    <tr>\n",
       "      <th>145</th>\n",
       "      <td>146</td>\n",
       "      <td>6.7</td>\n",
       "      <td>3.0</td>\n",
       "      <td>5.2</td>\n",
       "      <td>2.3</td>\n",
       "      <td>Iris-virginica</td>\n",
       "    </tr>\n",
       "    <tr>\n",
       "      <th>146</th>\n",
       "      <td>147</td>\n",
       "      <td>6.3</td>\n",
       "      <td>2.5</td>\n",
       "      <td>5.0</td>\n",
       "      <td>1.9</td>\n",
       "      <td>Iris-virginica</td>\n",
       "    </tr>\n",
       "    <tr>\n",
       "      <th>147</th>\n",
       "      <td>148</td>\n",
       "      <td>6.5</td>\n",
       "      <td>3.0</td>\n",
       "      <td>5.2</td>\n",
       "      <td>2.0</td>\n",
       "      <td>Iris-virginica</td>\n",
       "    </tr>\n",
       "    <tr>\n",
       "      <th>148</th>\n",
       "      <td>149</td>\n",
       "      <td>6.2</td>\n",
       "      <td>3.4</td>\n",
       "      <td>5.4</td>\n",
       "      <td>2.3</td>\n",
       "      <td>Iris-virginica</td>\n",
       "    </tr>\n",
       "    <tr>\n",
       "      <th>149</th>\n",
       "      <td>150</td>\n",
       "      <td>5.9</td>\n",
       "      <td>3.0</td>\n",
       "      <td>5.1</td>\n",
       "      <td>1.8</td>\n",
       "      <td>Iris-virginica</td>\n",
       "    </tr>\n",
       "  </tbody>\n",
       "</table>\n",
       "<p>150 rows × 6 columns</p>\n",
       "</div>"
      ],
      "text/plain": [
       "      Id  SepalLengthCm  SepalWidthCm  PetalLengthCm  PetalWidthCm  \\\n",
       "0      1            5.1           3.5            1.4           0.2   \n",
       "1      2            4.9           3.0            1.4           0.2   \n",
       "2      3            4.7           3.2            1.3           0.2   \n",
       "3      4            4.6           3.1            1.5           0.2   \n",
       "4      5            5.0           3.6            1.4           0.2   \n",
       "..   ...            ...           ...            ...           ...   \n",
       "145  146            6.7           3.0            5.2           2.3   \n",
       "146  147            6.3           2.5            5.0           1.9   \n",
       "147  148            6.5           3.0            5.2           2.0   \n",
       "148  149            6.2           3.4            5.4           2.3   \n",
       "149  150            5.9           3.0            5.1           1.8   \n",
       "\n",
       "            Species  \n",
       "0       Iris-setosa  \n",
       "1       Iris-setosa  \n",
       "2       Iris-setosa  \n",
       "3       Iris-setosa  \n",
       "4       Iris-setosa  \n",
       "..              ...  \n",
       "145  Iris-virginica  \n",
       "146  Iris-virginica  \n",
       "147  Iris-virginica  \n",
       "148  Iris-virginica  \n",
       "149  Iris-virginica  \n",
       "\n",
       "[150 rows x 6 columns]"
      ]
     },
     "execution_count": 19,
     "metadata": {},
     "output_type": "execute_result"
    }
   ],
   "source": [
    "df_csv"
   ]
  },
  {
   "cell_type": "code",
   "execution_count": 21,
   "id": "407218fa-3b4b-48a6-9066-49729934373b",
   "metadata": {},
   "outputs": [
    {
     "data": {
      "text/html": [
       "<div>\n",
       "<style scoped>\n",
       "    .dataframe tbody tr th:only-of-type {\n",
       "        vertical-align: middle;\n",
       "    }\n",
       "\n",
       "    .dataframe tbody tr th {\n",
       "        vertical-align: top;\n",
       "    }\n",
       "\n",
       "    .dataframe thead th {\n",
       "        text-align: right;\n",
       "    }\n",
       "</style>\n",
       "<table border=\"1\" class=\"dataframe\">\n",
       "  <thead>\n",
       "    <tr style=\"text-align: right;\">\n",
       "      <th></th>\n",
       "      <th>Id</th>\n",
       "      <th>SepalLengthCm</th>\n",
       "      <th>SepalWidthCm</th>\n",
       "      <th>PetalLengthCm</th>\n",
       "      <th>PetalWidthCm</th>\n",
       "    </tr>\n",
       "  </thead>\n",
       "  <tbody>\n",
       "    <tr>\n",
       "      <th>count</th>\n",
       "      <td>150.000000</td>\n",
       "      <td>150.000000</td>\n",
       "      <td>150.000000</td>\n",
       "      <td>150.000000</td>\n",
       "      <td>150.000000</td>\n",
       "    </tr>\n",
       "    <tr>\n",
       "      <th>mean</th>\n",
       "      <td>75.500000</td>\n",
       "      <td>5.843333</td>\n",
       "      <td>3.054000</td>\n",
       "      <td>3.758667</td>\n",
       "      <td>1.198667</td>\n",
       "    </tr>\n",
       "    <tr>\n",
       "      <th>std</th>\n",
       "      <td>43.445368</td>\n",
       "      <td>0.828066</td>\n",
       "      <td>0.433594</td>\n",
       "      <td>1.764420</td>\n",
       "      <td>0.763161</td>\n",
       "    </tr>\n",
       "    <tr>\n",
       "      <th>min</th>\n",
       "      <td>1.000000</td>\n",
       "      <td>4.300000</td>\n",
       "      <td>2.000000</td>\n",
       "      <td>1.000000</td>\n",
       "      <td>0.100000</td>\n",
       "    </tr>\n",
       "    <tr>\n",
       "      <th>25%</th>\n",
       "      <td>38.250000</td>\n",
       "      <td>5.100000</td>\n",
       "      <td>2.800000</td>\n",
       "      <td>1.600000</td>\n",
       "      <td>0.300000</td>\n",
       "    </tr>\n",
       "    <tr>\n",
       "      <th>50%</th>\n",
       "      <td>75.500000</td>\n",
       "      <td>5.800000</td>\n",
       "      <td>3.000000</td>\n",
       "      <td>4.350000</td>\n",
       "      <td>1.300000</td>\n",
       "    </tr>\n",
       "    <tr>\n",
       "      <th>75%</th>\n",
       "      <td>112.750000</td>\n",
       "      <td>6.400000</td>\n",
       "      <td>3.300000</td>\n",
       "      <td>5.100000</td>\n",
       "      <td>1.800000</td>\n",
       "    </tr>\n",
       "    <tr>\n",
       "      <th>max</th>\n",
       "      <td>150.000000</td>\n",
       "      <td>7.900000</td>\n",
       "      <td>4.400000</td>\n",
       "      <td>6.900000</td>\n",
       "      <td>2.500000</td>\n",
       "    </tr>\n",
       "  </tbody>\n",
       "</table>\n",
       "</div>"
      ],
      "text/plain": [
       "               Id  SepalLengthCm  SepalWidthCm  PetalLengthCm  PetalWidthCm\n",
       "count  150.000000     150.000000    150.000000     150.000000    150.000000\n",
       "mean    75.500000       5.843333      3.054000       3.758667      1.198667\n",
       "std     43.445368       0.828066      0.433594       1.764420      0.763161\n",
       "min      1.000000       4.300000      2.000000       1.000000      0.100000\n",
       "25%     38.250000       5.100000      2.800000       1.600000      0.300000\n",
       "50%     75.500000       5.800000      3.000000       4.350000      1.300000\n",
       "75%    112.750000       6.400000      3.300000       5.100000      1.800000\n",
       "max    150.000000       7.900000      4.400000       6.900000      2.500000"
      ]
     },
     "execution_count": 21,
     "metadata": {},
     "output_type": "execute_result"
    }
   ],
   "source": [
    "df_csv.describe()"
   ]
  },
  {
   "cell_type": "code",
   "execution_count": 23,
   "id": "0f2307c9-786f-4aff-b13d-b1ca91f9a93b",
   "metadata": {},
   "outputs": [],
   "source": [
    "head = df_csv.head(5) #extracted first 5 rows from the dataframe and stored it in head"
   ]
  },
  {
   "cell_type": "code",
   "execution_count": 25,
   "id": "d7790dc4-a5ba-4d41-a7c1-c737fcb298c4",
   "metadata": {},
   "outputs": [
    {
     "data": {
      "text/html": [
       "<div>\n",
       "<style scoped>\n",
       "    .dataframe tbody tr th:only-of-type {\n",
       "        vertical-align: middle;\n",
       "    }\n",
       "\n",
       "    .dataframe tbody tr th {\n",
       "        vertical-align: top;\n",
       "    }\n",
       "\n",
       "    .dataframe thead th {\n",
       "        text-align: right;\n",
       "    }\n",
       "</style>\n",
       "<table border=\"1\" class=\"dataframe\">\n",
       "  <thead>\n",
       "    <tr style=\"text-align: right;\">\n",
       "      <th></th>\n",
       "      <th>Id</th>\n",
       "      <th>SepalLengthCm</th>\n",
       "      <th>SepalWidthCm</th>\n",
       "      <th>PetalLengthCm</th>\n",
       "      <th>PetalWidthCm</th>\n",
       "      <th>Species</th>\n",
       "    </tr>\n",
       "  </thead>\n",
       "  <tbody>\n",
       "    <tr>\n",
       "      <th>145</th>\n",
       "      <td>146</td>\n",
       "      <td>6.7</td>\n",
       "      <td>3.0</td>\n",
       "      <td>5.2</td>\n",
       "      <td>2.3</td>\n",
       "      <td>Iris-virginica</td>\n",
       "    </tr>\n",
       "    <tr>\n",
       "      <th>146</th>\n",
       "      <td>147</td>\n",
       "      <td>6.3</td>\n",
       "      <td>2.5</td>\n",
       "      <td>5.0</td>\n",
       "      <td>1.9</td>\n",
       "      <td>Iris-virginica</td>\n",
       "    </tr>\n",
       "    <tr>\n",
       "      <th>147</th>\n",
       "      <td>148</td>\n",
       "      <td>6.5</td>\n",
       "      <td>3.0</td>\n",
       "      <td>5.2</td>\n",
       "      <td>2.0</td>\n",
       "      <td>Iris-virginica</td>\n",
       "    </tr>\n",
       "    <tr>\n",
       "      <th>148</th>\n",
       "      <td>149</td>\n",
       "      <td>6.2</td>\n",
       "      <td>3.4</td>\n",
       "      <td>5.4</td>\n",
       "      <td>2.3</td>\n",
       "      <td>Iris-virginica</td>\n",
       "    </tr>\n",
       "    <tr>\n",
       "      <th>149</th>\n",
       "      <td>150</td>\n",
       "      <td>5.9</td>\n",
       "      <td>3.0</td>\n",
       "      <td>5.1</td>\n",
       "      <td>1.8</td>\n",
       "      <td>Iris-virginica</td>\n",
       "    </tr>\n",
       "  </tbody>\n",
       "</table>\n",
       "</div>"
      ],
      "text/plain": [
       "      Id  SepalLengthCm  SepalWidthCm  PetalLengthCm  PetalWidthCm  \\\n",
       "145  146            6.7           3.0            5.2           2.3   \n",
       "146  147            6.3           2.5            5.0           1.9   \n",
       "147  148            6.5           3.0            5.2           2.0   \n",
       "148  149            6.2           3.4            5.4           2.3   \n",
       "149  150            5.9           3.0            5.1           1.8   \n",
       "\n",
       "            Species  \n",
       "145  Iris-virginica  \n",
       "146  Iris-virginica  \n",
       "147  Iris-virginica  \n",
       "148  Iris-virginica  \n",
       "149  Iris-virginica  "
      ]
     },
     "execution_count": 25,
     "metadata": {},
     "output_type": "execute_result"
    }
   ],
   "source": [
    "df_csv.tail()"
   ]
  },
  {
   "cell_type": "code",
   "execution_count": 27,
   "id": "69795fd1-2698-41ad-9a5e-20115d844051",
   "metadata": {},
   "outputs": [],
   "source": [
    "id_species = df_csv.get(\"Species\") # stored the column named 'Species' to the id_species"
   ]
  },
  {
   "cell_type": "code",
   "execution_count": 29,
   "id": "33364133-842b-408f-b132-5072f1238db0",
   "metadata": {},
   "outputs": [],
   "source": [
    "FirstRow = df_csv.loc[0] # stored the first row in the variable FirstRow"
   ]
  },
  {
   "cell_type": "code",
   "execution_count": 187,
   "id": "8e8ac880-b1d4-40dd-b06c-9f27e9d2396d",
   "metadata": {},
   "outputs": [
    {
     "data": {
      "text/plain": [
       "0         Iris-setosa\n",
       "1         Iris-setosa\n",
       "2         Iris-setosa\n",
       "3         Iris-setosa\n",
       "4         Iris-setosa\n",
       "            ...      \n",
       "145    Iris-virginica\n",
       "146    Iris-virginica\n",
       "147    Iris-virginica\n",
       "148    Iris-virginica\n",
       "149    Iris-virginica\n",
       "Name: Species, Length: 150, dtype: object"
      ]
     },
     "execution_count": 187,
     "metadata": {},
     "output_type": "execute_result"
    }
   ],
   "source": [
    "id_species"
   ]
  },
  {
   "cell_type": "code",
   "execution_count": 181,
   "id": "ebdac1de-8bfb-4eaf-be2e-4d7919836050",
   "metadata": {},
   "outputs": [
    {
     "data": {
      "text/plain": [
       "Id                         1\n",
       "SepalLengthCm            5.1\n",
       "SepalWidthCm             3.5\n",
       "PetalLengthCm            1.4\n",
       "PetalWidthCm             0.2\n",
       "Species          Iris-setosa\n",
       "Name: 0, dtype: object"
      ]
     },
     "execution_count": 181,
     "metadata": {},
     "output_type": "execute_result"
    }
   ],
   "source": [
    "FirstRow"
   ]
  },
  {
   "cell_type": "code",
   "execution_count": 31,
   "id": "b15f590d-44d7-4797-b2b6-06e031d0802f",
   "metadata": {},
   "outputs": [
    {
     "data": {
      "text/plain": [
       "RangeIndex(start=0, stop=150, step=1)"
      ]
     },
     "execution_count": 31,
     "metadata": {},
     "output_type": "execute_result"
    }
   ],
   "source": [
    "df_csv.index"
   ]
  },
  {
   "cell_type": "code",
   "execution_count": 33,
   "id": "2e84d6c6-ba50-4f67-b725-03e31e7394f3",
   "metadata": {},
   "outputs": [
    {
     "data": {
      "text/plain": [
       "RangeIndex(start=0, stop=5, step=1)"
      ]
     },
     "execution_count": 33,
     "metadata": {},
     "output_type": "execute_result"
    }
   ],
   "source": [
    "head.index"
   ]
  },
  {
   "cell_type": "code",
   "execution_count": 35,
   "id": "35a4c0a5-1572-4251-a134-3eb1e40c6636",
   "metadata": {},
   "outputs": [
    {
     "data": {
      "text/plain": [
       "Index([10, 20, 30, 40, 50], dtype='int64')"
      ]
     },
     "execution_count": 35,
     "metadata": {},
     "output_type": "execute_result"
    }
   ],
   "source": [
    "head.index = [10,20,30,40,50] # here we have changed the indices\n",
    "head.index # index gives the range of index"
   ]
  },
  {
   "cell_type": "code",
   "execution_count": 37,
   "id": "79a3ebc9-3706-45ca-af79-04b028e5a294",
   "metadata": {},
   "outputs": [
    {
     "data": {
      "text/plain": [
       "Index(['Id', 'SepalLengthCm', 'SepalWidthCm', 'PetalLengthCm', 'PetalWidthCm',\n",
       "       'Species'],\n",
       "      dtype='object')"
      ]
     },
     "execution_count": 37,
     "metadata": {},
     "output_type": "execute_result"
    }
   ],
   "source": [
    "head.columns # prints the column names"
   ]
  },
  {
   "cell_type": "code",
   "execution_count": 39,
   "id": "49326835-9ce9-4014-959f-be059b1d0b0a",
   "metadata": {},
   "outputs": [
    {
     "data": {
      "text/plain": [
       "Id                 int64\n",
       "SepalLengthCm    float64\n",
       "SepalWidthCm     float64\n",
       "PetalLengthCm    float64\n",
       "PetalWidthCm     float64\n",
       "Species           object\n",
       "dtype: object"
      ]
     },
     "execution_count": 39,
     "metadata": {},
     "output_type": "execute_result"
    }
   ],
   "source": [
    "head.dtypes #dtypes gives datatype of the columns"
   ]
  },
  {
   "cell_type": "code",
   "execution_count": 41,
   "id": "7f84c292-803b-4c43-99f8-ad138be2bb94",
   "metadata": {},
   "outputs": [
    {
     "name": "stdout",
     "output_type": "stream",
     "text": [
      "<class 'pandas.core.frame.DataFrame'>\n",
      "Index: 5 entries, 10 to 50\n",
      "Data columns (total 6 columns):\n",
      " #   Column         Non-Null Count  Dtype  \n",
      "---  ------         --------------  -----  \n",
      " 0   Id             5 non-null      int64  \n",
      " 1   SepalLengthCm  5 non-null      float64\n",
      " 2   SepalWidthCm   5 non-null      float64\n",
      " 3   PetalLengthCm  5 non-null      float64\n",
      " 4   PetalWidthCm   5 non-null      float64\n",
      " 5   Species        5 non-null      object \n",
      "dtypes: float64(4), int64(1), object(1)\n",
      "memory usage: 280.0+ bytes\n"
     ]
    }
   ],
   "source": [
    "head.info(verbose = True) # verbose = true prints the complete summary"
   ]
  },
  {
   "cell_type": "code",
   "execution_count": 43,
   "id": "cc9b6177-ba57-4cce-82ff-5216790af775",
   "metadata": {},
   "outputs": [
    {
     "name": "stdout",
     "output_type": "stream",
     "text": [
      "<class 'pandas.core.frame.DataFrame'>\n",
      "Index: 5 entries, 10 to 50\n",
      "Columns: 6 entries, Id to Species\n",
      "dtypes: float64(4), int64(1), object(1)\n",
      "memory usage: 280.0+ bytes\n"
     ]
    }
   ],
   "source": [
    "head.info(verbose = False) # verbose = false does not prints per column information"
   ]
  },
  {
   "cell_type": "code",
   "execution_count": 45,
   "id": "ebdf7cb7-504c-4ff8-b7b7-c30fb8dc0228",
   "metadata": {},
   "outputs": [],
   "source": [
    "import io  # here we are pipeing output of Dataframe.info to buffer instead of sys.stdout, get buffer content and writes to a text file"
   ]
  },
  {
   "cell_type": "code",
   "execution_count": 47,
   "id": "7cf581d0-faaa-46de-98cf-8a807e5f02f8",
   "metadata": {},
   "outputs": [],
   "source": [
    "buffer = io.StringIO()"
   ]
  },
  {
   "cell_type": "code",
   "execution_count": 51,
   "id": "db068a41-de54-456a-a46b-513f45b2fde5",
   "metadata": {},
   "outputs": [],
   "source": [
    "df_csv.info(buf = buffer)"
   ]
  },
  {
   "cell_type": "code",
   "execution_count": 53,
   "id": "a78a3841-4d81-4f25-82dc-089c7674b3ea",
   "metadata": {},
   "outputs": [],
   "source": [
    "s = buffer.getvalue()"
   ]
  },
  {
   "cell_type": "code",
   "execution_count": 63,
   "id": "bbf15fbf-328a-4978-a91d-0a4959f64193",
   "metadata": {},
   "outputs": [],
   "source": [
    "with open(\"df_csv_info.txt\",\"w\",\n",
    "         encoding = \"utf - 8\") as f :\n",
    "    f.write(s) # written the dataframe information in df_info.txt"
   ]
  },
  {
   "cell_type": "markdown",
   "id": "70a8694e-dedd-4739-b8d2-071c331ff1f9",
   "metadata": {},
   "source": [
    "## TXT"
   ]
  },
  {
   "cell_type": "code",
   "execution_count": 69,
   "id": "3c3751b0-1f9e-4cbc-8e46-a962abb9ada2",
   "metadata": {},
   "outputs": [
    {
     "name": "stdout",
     "output_type": "stream",
     "text": [
      "atcdtfajokeaojyqdnvaxdccywqehyozohqfnsjrgvqpnbsguqgpvyfggonhvyqkbzbbuioyqyphojjbvexnyrpbykukcxdvpzjqnpqkivfvppxnblsaghppnpdkiroxwacphzejxwwddahhruaelygzhaaiaheklnlslryohmeovczqccbttzdhyxhjelfggypqodrpqgukwhkmkitmkxarwkbefbvwsqjgmbtfakhvvaphmuwugmxtnllzwufavwivxuebzjxyvqevdhfpdgzexziuhokvqlbynfadathvmemeqdehdamyqvqjunziynzfhucycdbeiupufwmwxewuihfsutlhuvoczczdlzyeskqnqmbfpqzsytlfmhmaggrhjjineumhonycnyvtwjttxrkystwvmwzddvrzdxjcffyasproyqssyhwptbfbtogrymydzlvvzvkyribllbjvdbxpljzpjngqxsisrvfijpxzwqixopzmpydluxnmyyuvuhtygczariltpfnqchngwijgkrwhodmzidirtoasrkhzdveistcwbszpegwwbjotmdcdcmjtselzkguvrqddqruaptkfpemyxmvlxplocbfdrsxdspbhmufiookiyigbrmoijvdmfjqicbmpvuvenngycchwjlhxkqtsdjhkapzvkikuucwfjrqupyuwpjaxubtjyudogdjrhnxyqerxrxudzilzzgfxhxweeqtkhzpivtjlzrutvtbsckevbbcjtsygrboufvshooxptnikxytbiqcloipdmtsgayrlliurkeydiehtzgzpivhefnuriipehvylqvezcazabosftnjjotgcfkjqdkdecncvmxanipjngezfsxdsbnxqzdgfvayojqnokbckibayxcakejowycsgpmqowypptbhynplwqykyuejkjxcuxmqatjkoqrlxzxcgfyquvuszibbswnatkeyiremlgcblpijmxknmnkuvnoqtmzeqvcpjlimghppenuglpvhxyqhvyvqulhxymkatmyvhfmegjjabzhuujmalgrwyknhvpsrnocxerdlzezdnkznalgrwgctccmwzxbezqosjbswycwyhjlnyxyhbmcjcobtzssdcwbglqavrmqagvwisljmqrqciyutdmvkenwzwunpzebfytxumjtaxenpzazhdcctppsmzisewbghlgmpuwkkjkfpytsmyhmrxhikybahxwuxbbxlmbaevokszqibfjzfzwmpknfjhlrjpkeuwijorkymzngliyofnjkgaxosszfdinpjpcdhenomslbxwkbwybczorrlkkkgzaugtgtaqkzdvjzhpgatvabowaahfquoqlvsbqnpssciliscwknknmwfwjofvajjidjyojdokvxmhvgcigeeyhkmgfjylyakuhyaojkfdtzvsdxtbvnvnjrycsqddwybzodrjdacthaexllgfwscvgbogvbnxrirqmfijuzyyqcotonmroaouhnmpcddkokaixgrdetnlqpovmhytexatlpiwervpdelufkzrazwhdffoezeywogatsjrbyhtlcmaektkygkftzzeoezpvdpyorxppbejnvoemmhcdbddwnmfgrwpjieilvcpdoycygtlsnqtnxzkafjwdvnhpzqqoxwldolbadrckfogsezoqgbkzosrjajhpqohoykjjwdplapjiqsgactgfxvuzmfqkrmioqswienusetzzealvkjmdrbdvlayriqopgdltopkqhrnzlleyxngeqdzotcdyiszmqihodjcqmsvjqsighuhlizrzzusxklybzqndphpltdcqymkxrpzztxvnvlnroqzrxbzhtpfafbnupqendoegfyutptatwteabghlvpptmuqemfmqvtfgmogwofltskqdytphocbgmkazgzdzivnpzvjgxavsmfxypkhvihuaxatuworxhvsgyajeqjqujyzsiwzgzvbvxuafsbpeukjpgspnpzopnljynvvgbyfulmekhrapxsxfobuyzzvluwicgiyiwfmgcyljpqjrpnxuepjobcutnoyamcwtabsvnxjjehsivzvxfbjpxohdzewmynjbpvauzvtmjtdjxifnumvcsaikcyktoygpruetuntprhrmfvcjznujjkzvduvumnlddstcumvxehusfltarwvtbljalipmfmzuhsolzeosmfiwwgegsypbdaafuveztukaxzbecssrhlsovotmyrndbcznnxfimsatpmyunqbjftcnifyzharrpijmyqtsqmzxyusgpscrqmdowrhhsgzhivmionmqawcvjlbkzfxxhdnmggqdevxwddqlienskmkdphrabwvlwjgsoqsryonlixhelwjyoppxomyorgryinbnlwmmvmlgobzdtbjxbggssznxwiojmvhkfaqrpjqruacyydcanemhwbnidxdirwpfulyhalxguvzkwfqpviibftcctiutiaaxhtiibejwhnpmufdxzahwyfblsuwwsugmzqquascujrslltvgqtbwmuxyxthxebyzqmwgdvbdkqatbibnwkgnuiqggkfaqqvmytmrynsnufpowegjzzmwxzffwfeuvfxztyvlcuerrattfatgzvyemlrzbqssqbrtqhqxmuvfrsdsruwtunghrkorrpejqaahjpztioihrhehafbbfoepdkiwxafjxwcfmujsbfnkpuqmhzpqkequuxmchggvnyyaomqyiubtnqagekfpgrgjdwhdhillvlygxygfioxfwvbkwyrdpjhzhwrwbcuhdnmnwizkrwzkqcrvgawtigfbfmgbvstawohbxfhzzlahxnxfltnfxtmzvqgjpwjzpukqhnbssaogahvypmsznozcsetvhhroymkrcuzkjvutxsdcdujfuheewrmpeieezsqhzmcrrodlkzuspwzcusolvlyyomkrtgenkvnykysrasksrzyewluffjdmrftxodjwuapoeilfqywkaoflrgdcfaeebgxtdtdlqffepwfdliavdhpirqavwhlbpqmqozygcvjfejfllyfhpoffmlfnlcnrevhedjnqstveholowqgfjizwsjfsdgmbpjcfbrfigdhbjiovvyhpveiqkvdekipnfvyjnrqedfupvsaarpptqllwenebelubbdwkurteanpdsagfckwxvdwiopkvivedjnyrmqvkrtdzrnmaffjxpinwsqrelxlnzdprkadazbtdatlikfsyrczeitmumaabbxtbcyulxtiobblihmhmjlhjkcqbdzgrafnsurhfbtncshtblrfjaycondumctuaehdzimxaxffjsfjjwvwxtpmrkawyngybszszsupupkwlprgtetxhdzfszjntqmwefodebhwnlohdafrroofjbynvuggqmfjtsszmrfnxgzkvxmqkjevgoqsgnkbbsqwajjcudygyrtljrgkiveswsgjxacrcgykvuiolsybdkcwtwjvjmesaagpgqrxhxkbamzlnuxugzcyhschzsmrgwzsugkreehxcupmgqecpajowvrwdpirslxwafdtvuwkhufaargpkyhszhwnzkghxybwwuzwxsjsabiwjyemdadqddditzfiavevgaoymzlluivfvsurrhksrzloagokwuhvixqwfqcdtnjzdarppiagjahezewughqhmvdywqyrhlkefqwmrjqycadzwaexmwvqarccukswrgpmhshmuklcifkfydhhldoahqnkegbqjgphssovalgcueroczxlhyblvxcqwtkfjweuycilaznagoapwwdpxkwtlpdfscvnwljlwcpgsiqmpcmvoravmzypcgfjjvyhlzrhapdwzhufoivqimyotwjiwxzxcpsvqtisafabfxntqpcqbnixzqjjtquviqaqsrzhwhsmedegwwadpqsixfvdzoonmiirnnftegwpaparcgxykvruflumjccxprdyvxmgdfzverqpzflqeqrgiomkqgzguqawlrilvpczbvreeuegagkguacuevnlorugytmmmjadtgwwbmelnqztiizhnmfhuxofvfowrqdmudhrijpshjtxwupdjnrpplklgqgpwkbbqossoxavowvrfyibskyiqsiojbictxvrjzmxzdijdahkbfkkhhzggslpqzpwynbzepcmljnprvsceymqkoqslgufkgmkkojoqqkkmradvbojqwuwhqagtykgxcgdtiyjfgpfxkdknxvzuvvxydczlhzrkcqxrlsxkehweehstlmlmczxzwqdlcywpyevfughlimevjcqgpuuckxvllflbidkkofqiblxtegkzpalcolqhbbfxmgkxpofikzomkuifvwtdxcokugiacimwazqzzbojuypdkawhwwrihdrwwameicgrpolddectcbedsihdevgesqincygoncxtlcoxqrnpevrkdusiotcvjlpcryuzsxzbhisqhikqsmjmgazfazzrsinmegrmempovbpwxbxzxmlrwyopyjxtrflznibxdqokptqsiezpoggulndmyqctqqcpucyljpalbbxxbjpgunqlejppemsbwfuforwkmiizuvefhznhfkrsukfmopljrrekzrdlrtgsitvhcpfucwotvfdvrhlwzxzdzlsaugedajrkulcbkkmqczcgmvkpdqrjhdpjaexraotlcdthburrfyhtoyuhbpuieilyfdfnveygnxkkdmoigwftkpmkrrggzjqbcxbxprcotpmyjpjekkcibirifwhbwdrbryiplxoqznnspwjnrzrvyybmjdnmycrfkpbrlyuvtcmrxvjjlhtqretugherabmukqrfmwlrgcwfcxzstfmhrrkxohuvidxemgyudrrupbvevlcbemjcxpvfnpzgmfenzhyjppcvshbmxnbdgkyrpadovucxoflusgsrvrvijedqqenjxavxzmsvlxlahitawhodbgugmflckssqosxltlftrdrwtme\n"
     ]
    }
   ],
   "source": [
    "# Open and read the file\n",
    "with open('Assignment1/Input/sample3.txt', 'r') as file:\n",
    "    df_txt = file.read()\n",
    "\n",
    "# Print the content\n",
    "print(df_txt)"
   ]
  },
  {
   "cell_type": "code",
   "execution_count": 75,
   "id": "33267a7c-9719-4b1a-978c-4e223132c18f",
   "metadata": {},
   "outputs": [],
   "source": [
    "# Write to the destination file\n",
    "with open('destination_file.txt', 'w') as dest_file:\n",
    "    dest_file.write(df_txt)\n"
   ]
  },
  {
   "cell_type": "markdown",
   "id": "e0a74763-0e03-4f6a-813e-550b440b5d4b",
   "metadata": {},
   "source": [
    "## XML"
   ]
  },
  {
   "cell_type": "code",
   "execution_count": 94,
   "id": "73505c1a-f154-4ab0-98df-4e112e80bc6b",
   "metadata": {},
   "outputs": [],
   "source": [
    "df_xml = pd.read_xml(\"Assignment1/Input/sample3.xml\")"
   ]
  },
  {
   "cell_type": "code",
   "execution_count": 96,
   "id": "905eca3e-fe96-4caa-bd6f-f9440c7b0c30",
   "metadata": {},
   "outputs": [
    {
     "name": "stdout",
     "output_type": "stream",
     "text": [
      "          name   age                   email                 title  \\\n",
      "0     John Doe  30.0    john.doe@example.com                  None   \n",
      "1   Jane Smith  25.0  jane.smith@example.com                  None   \n",
      "2         None   NaN                    None  The Adventure Begins   \n",
      "3     John Doe  30.0    john.doe@example.com                  None   \n",
      "4   Jane Smith  25.0  jane.smith@example.com                  None   \n",
      "..         ...   ...                     ...                   ...   \n",
      "67  Jane Smith  25.0  jane.smith@example.com                  None   \n",
      "68        None   NaN                    None  The Adventure Begins   \n",
      "69    John Doe  30.0    john.doe@example.com                  None   \n",
      "70  Jane Smith  25.0  jane.smith@example.com                  None   \n",
      "71        None   NaN                    None  The Adventure Begins   \n",
      "\n",
      "            author    year  \n",
      "0             None     NaN  \n",
      "1             None     NaN  \n",
      "2   Robert Johnson  2022.0  \n",
      "3             None     NaN  \n",
      "4             None     NaN  \n",
      "..             ...     ...  \n",
      "67            None     NaN  \n",
      "68  Robert Johnson  2022.0  \n",
      "69            None     NaN  \n",
      "70            None     NaN  \n",
      "71  Robert Johnson  2022.0  \n",
      "\n",
      "[72 rows x 6 columns]\n"
     ]
    }
   ],
   "source": [
    "print(df_xml)"
   ]
  }
 ],
 "metadata": {
  "kernelspec": {
   "display_name": "Python 3 (ipykernel)",
   "language": "python",
   "name": "python3"
  },
  "language_info": {
   "codemirror_mode": {
    "name": "ipython",
    "version": 3
   },
   "file_extension": ".py",
   "mimetype": "text/x-python",
   "name": "python",
   "nbconvert_exporter": "python",
   "pygments_lexer": "ipython3",
   "version": "3.12.4"
  }
 },
 "nbformat": 4,
 "nbformat_minor": 5
}
